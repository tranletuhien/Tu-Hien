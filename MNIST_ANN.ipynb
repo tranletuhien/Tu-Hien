{
  "nbformat": 4,
  "nbformat_minor": 0,
  "metadata": {
    "colab": {
      "provenance": [],
      "authorship_tag": "ABX9TyPmxeUXOP4oF93RF7px1ECT",
      "include_colab_link": true
    },
    "kernelspec": {
      "name": "python3",
      "display_name": "Python 3"
    },
    "language_info": {
      "name": "python"
    }
  },
  "cells": [
    {
      "cell_type": "markdown",
      "metadata": {
        "id": "view-in-github",
        "colab_type": "text"
      },
      "source": [
        "<a href=\"https://colab.research.google.com/github/tranletuhien/Tu-Hien/blob/main/MNIST_ANN.ipynb\" target=\"_parent\"><img src=\"https://colab.research.google.com/assets/colab-badge.svg\" alt=\"Open In Colab\"/></a>"
      ]
    },
    {
      "cell_type": "code",
      "execution_count": 53,
      "metadata": {
        "id": "r21xAfB8QxDJ"
      },
      "outputs": [],
      "source": [
        "from keras.datasets import mnist\n",
        "(train_images,train_labels),(test_images,test_labels)=mnist.load_data() #truyen du lieu"
      ]
    },
    {
      "cell_type": "code",
      "source": [
        "train_images.shape #60000: du liệu, 28: kích thước tập"
      ],
      "metadata": {
        "colab": {
          "base_uri": "https://localhost:8080/"
        },
        "id": "RDszVQttRbm8",
        "outputId": "4bd788dd-8cc4-4948-d4f5-ebc37a704f21"
      },
      "execution_count": 39,
      "outputs": [
        {
          "output_type": "execute_result",
          "data": {
            "text/plain": [
              "(60000, 28, 28)"
            ]
          },
          "metadata": {},
          "execution_count": 39
        }
      ]
    },
    {
      "cell_type": "code",
      "source": [
        "test_images.shape"
      ],
      "metadata": {
        "colab": {
          "base_uri": "https://localhost:8080/"
        },
        "id": "kcpvF8Q7SIQn",
        "outputId": "d7e38552-6b45-4cb0-d157-a2f03834af72"
      },
      "execution_count": 40,
      "outputs": [
        {
          "output_type": "execute_result",
          "data": {
            "text/plain": [
              "(10000, 28, 28)"
            ]
          },
          "metadata": {},
          "execution_count": 40
        }
      ]
    },
    {
      "cell_type": "code",
      "source": [
        "train_labels.shape"
      ],
      "metadata": {
        "colab": {
          "base_uri": "https://localhost:8080/"
        },
        "id": "QvZbXtIrS42t",
        "outputId": "7c37037e-d389-494f-d88c-2bf66fb4bfc4"
      },
      "execution_count": 41,
      "outputs": [
        {
          "output_type": "execute_result",
          "data": {
            "text/plain": [
              "(60000,)"
            ]
          },
          "metadata": {},
          "execution_count": 41
        }
      ]
    },
    {
      "cell_type": "code",
      "source": [
        "test_labels.shape"
      ],
      "metadata": {
        "colab": {
          "base_uri": "https://localhost:8080/"
        },
        "id": "9mZ7nhvzTCCj",
        "outputId": "4b60df47-fec1-4a9e-999e-9aee34a1279a"
      },
      "execution_count": 42,
      "outputs": [
        {
          "output_type": "execute_result",
          "data": {
            "text/plain": [
              "(10000,)"
            ]
          },
          "metadata": {},
          "execution_count": 42
        }
      ]
    },
    {
      "cell_type": "code",
      "source": [
        "digit=train_images[1000]\n",
        "import matplotlib.pyplot as plt \n",
        "plt.imshow(digit)\n",
        "plt.show\n",
        "print('Số này là:',train_labels[1000])"
      ],
      "metadata": {
        "colab": {
          "base_uri": "https://localhost:8080/",
          "height": 447
        },
        "id": "6ceUu1sGTJVW",
        "outputId": "aaa17658-7c8f-4430-f401-ec3a350e444a"
      },
      "execution_count": 43,
      "outputs": [
        {
          "output_type": "stream",
          "name": "stdout",
          "text": [
            "Số này là: 0\n"
          ]
        },
        {
          "output_type": "display_data",
          "data": {
            "text/plain": [
              "<Figure size 640x480 with 1 Axes>"
            ],
            "image/png": "[encoded data removed]"
          },
          "metadata": {}
        }
      ]
    },
    {
      "cell_type": "code",
      "source": [
        "for i in range(10):\n",
        "  plt.subplot(3,5,i+1)\n",
        "  plt.tight_layout\n",
        "  plt.imshow(train_images[i+2],cmap='gray',interpolation='none')\n",
        "  plt.title('Số này là:{}'.format(train_labels[i+2]))\n",
        "  plt.xticks([])\n",
        "  plt.yticks([])\n"
      ],
      "metadata": {
        "colab": {
          "base_uri": "https://localhost:8080/",
          "height": 276
        },
        "id": "Bt9lDq6FT-ZL",
        "outputId": "906fb2de-658e-4bba-f106-089e3bb27274"
      },
      "execution_count": 44,
      "outputs": [
        {
          "output_type": "display_data",
          "data": {
            "text/plain": [
              "<Figure size 640x480 with 10 Axes>"
            ],
            "image/png": "[encoded data removed]"
          },
          "metadata": {}
        }
      ]
    },
    {
      "cell_type": "code",
      "source": [
        "from keras.models import Sequential  #sequential: mạng mô tả ANN, các lớp kế tiếp nhau; full_connected: sự kết nối đầy đủ giữa các tế bào\n",
        "from keras.layers import Dense\n",
        "model=Sequential()\n",
        "model.add(Dense(512,activation='relu',input_shape=(28*28,)))\n",
        "model.add(Dense(10,activation='softmax'))\n",
        "model.summary()"
      ],
      "metadata": {
        "colab": {
          "base_uri": "https://localhost:8080/"
        },
        "id": "PdACr09-VhS8",
        "outputId": "26279e42-0973-4308-82ee-819dd2aa15fa"
      },
      "execution_count": 45,
      "outputs": [
        {
          "output_type": "stream",
          "name": "stdout",
          "text": [
            "Model: \"sequential_3\"\n",
            "_________________________________________________________________\n",
            " Layer (type)                Output Shape              Param #   \n",
            "=================================================================\n",
            " dense_6 (Dense)             (None, 512)               401920    \n",
            "                                                                 \n",
            " dense_7 (Dense)             (None, 10)                5130      \n",
            "                                                                 \n",
            "=================================================================\n",
            "Total params: 407,050\n",
            "Trainable params: 407,050\n",
            "Non-trainable params: 0\n",
            "_________________________________________________________________\n"
          ]
        }
      ]
    },
    {
      "cell_type": "code",
      "source": [
        "train_images=train_images.reshape((60000,28*28))\n",
        "train_images=train_images.astype('float32')/255\n",
        "train_images.shape"
      ],
      "metadata": {
        "colab": {
          "base_uri": "https://localhost:8080/"
        },
        "id": "efu1AfqfbKTg",
        "outputId": "7b959eff-5367-4402-fc29-8385d9a1580a"
      },
      "execution_count": 59,
      "outputs": [
        {
          "output_type": "execute_result",
          "data": {
            "text/plain": [
              "(60000, 784)"
            ]
          },
          "metadata": {},
          "execution_count": 59
        }
      ]
    },
    {
      "cell_type": "code",
      "source": [
        "test_images=test_images.reshape((10000,28*28))\n",
        "test_images=test_images.astype('float32')/255\n",
        "test_images.shape"
      ],
      "metadata": {
        "colab": {
          "base_uri": "https://localhost:8080/"
        },
        "id": "eGALEYwDYKZg",
        "outputId": "3162e41e-101a-488a-9f93-dfe5ad066427"
      },
      "execution_count": 58,
      "outputs": [
        {
          "output_type": "execute_result",
          "data": {
            "text/plain": [
              "(10000, 784)"
            ]
          },
          "metadata": {},
          "execution_count": 58
        }
      ]
    },
    {
      "cell_type": "code",
      "source": [
        "X=test_images\n",
        "Y=test_labels"
      ],
      "metadata": {
        "id": "SuJ_gkVhmLWs"
      },
      "execution_count": 55,
      "outputs": []
    },
    {
      "cell_type": "code",
      "source": [
        "from keras.utils import to_categorical\n",
        "from tensorflow.keras.utils import to_categorical\n",
        "train_labels=to_categorical(train_labels,10)\n",
        "test_labels=to_categorical(test_labels,10)"
      ],
      "metadata": {
        "id": "Y0TKJ373TpJ7"
      },
      "execution_count": 49,
      "outputs": []
    },
    {
      "cell_type": "code",
      "source": [
        "train_labels.shape\n",
        "test_labels.shape"
      ],
      "metadata": {
        "colab": {
          "base_uri": "https://localhost:8080/"
        },
        "id": "RnYCSuiiZH-w",
        "outputId": "a461e6c7-c25f-4d99-a74d-e3a67cd68596"
      },
      "execution_count": 50,
      "outputs": [
        {
          "output_type": "execute_result",
          "data": {
            "text/plain": [
              "(10000, 10)"
            ]
          },
          "metadata": {},
          "execution_count": 50
        }
      ]
    },
    {
      "cell_type": "code",
      "source": [
        "model.compile(optimizer='rmsprop',loss='categorical_crossentropy',metrics=['accuracy'])\n",
        "model.fit(train_images,train_labels,epochs=20,batch_size=128) # học 20, lấy 128 để học trong 60000\n",
        "test_loss,test_acc=model.evaluate(test_images,test_labels)\n",
        "print('Độ mất mát:',test_loss)\n",
        "print('Độ chính xác:',test_acc)"
      ],
      "metadata": {
        "colab": {
          "base_uri": "https://localhost:8080/"
        },
        "id": "VV619_xcfPdb",
        "outputId": "9463e1ca-5641-4f5f-a7c9-e2cc186260e0"
      },
      "execution_count": 51,
      "outputs": [
        {
          "output_type": "stream",
          "name": "stdout",
          "text": [
            "Epoch 1/20\n",
            "469/469 [==============================] - 6s 10ms/step - loss: 0.2640 - accuracy: 0.9244\n",
            "Epoch 2/20\n",
            "469/469 [==============================] - 5s 11ms/step - loss: 0.1065 - accuracy: 0.9686\n",
            "Epoch 3/20\n",
            "469/469 [==============================] - 4s 9ms/step - loss: 0.0702 - accuracy: 0.9791\n",
            "Epoch 4/20\n",
            "469/469 [==============================] - 5s 11ms/step - loss: 0.0513 - accuracy: 0.9847\n",
            "Epoch 5/20\n",
            "469/469 [==============================] - 4s 9ms/step - loss: 0.0384 - accuracy: 0.9883\n",
            "Epoch 6/20\n",
            "469/469 [==============================] - 4s 9ms/step - loss: 0.0290 - accuracy: 0.9914\n",
            "Epoch 7/20\n",
            "469/469 [==============================] - 5s 11ms/step - loss: 0.0220 - accuracy: 0.9938\n",
            "Epoch 8/20\n",
            "469/469 [==============================] - 4s 9ms/step - loss: 0.0167 - accuracy: 0.9955\n",
            "Epoch 9/20\n",
            "469/469 [==============================] - 4s 9ms/step - loss: 0.0124 - accuracy: 0.9970\n",
            "Epoch 10/20\n",
            "469/469 [==============================] - 5s 12ms/step - loss: 0.0096 - accuracy: 0.9977\n",
            "Epoch 11/20\n",
            "469/469 [==============================] - 4s 9ms/step - loss: 0.0069 - accuracy: 0.9984\n",
            "Epoch 12/20\n",
            "469/469 [==============================] - 5s 10ms/step - loss: 0.0054 - accuracy: 0.9988\n",
            "Epoch 13/20\n",
            "469/469 [==============================] - 5s 10ms/step - loss: 0.0037 - accuracy: 0.9994\n",
            "Epoch 14/20\n",
            "469/469 [==============================] - 4s 9ms/step - loss: 0.0022 - accuracy: 0.9997\n",
            "Epoch 15/20\n",
            "469/469 [==============================] - 5s 11ms/step - loss: 0.0016 - accuracy: 0.9998\n",
            "Epoch 16/20\n",
            "469/469 [==============================] - 4s 9ms/step - loss: 8.8365e-04 - accuracy: 1.0000\n",
            "Epoch 17/20\n",
            "469/469 [==============================] - 4s 9ms/step - loss: 7.4391e-04 - accuracy: 1.0000\n",
            "Epoch 18/20\n",
            "469/469 [==============================] - 5s 11ms/step - loss: 4.7676e-04 - accuracy: 1.0000\n",
            "Epoch 19/20\n",
            "469/469 [==============================] - 4s 9ms/step - loss: 3.8601e-04 - accuracy: 1.0000\n",
            "Epoch 20/20\n",
            "469/469 [==============================] - 4s 9ms/step - loss: 3.4929e-04 - accuracy: 1.0000\n",
            "313/313 [==============================] - 1s 4ms/step - loss: 0.0702 - accuracy: 0.9831\n",
            "Độ mất mát: 0.07021849602460861\n",
            "Độ chính xác: 0.9830999970436096\n"
          ]
        }
      ]
    },
    {
      "cell_type": "code",
      "source": [
        "digit=X[1000]\n",
        "import matplotlib.pyplot as plt \n",
        "plt.imshow(digit)\n",
        "plt.show\n",
        "print('Số này là:',X[1000])"
      ],
      "metadata": {
        "colab": {
          "base_uri": "https://localhost:8080/",
          "height": 1000
        },
        "id": "bSSDqS_0gXKP",
        "outputId": "37c595db-ab3a-46e5-aa23-26c8a05b5882"
      },
      "execution_count": 56,
      "outputs": [
        {
          "output_type": "stream",
          "name": "stdout",
          "text": [
            "Số này là: [[  0   0   0   0   0   0   0   0   0   0   0   0   0   0   0   0   0   0\n",
            "    0   0   0   0   0   0   0   0   0   0]\n",
            " [  0   0   0   0   0   0   0   0   0   0   0   0   0   0   0   0   0   0\n",
            "    0   0   0   0   0   0   0   0   0   0]\n",
            " [  0   0   0   0   0   0   0   0   0   0   0   0   0   0   0   0   0   0\n",
            "    0   0   0   0   0   0   0   0   0   0]\n",
            " [  0   0   0   0   0   0   0   0   0   0   0   0   0   0   0   0   0   0\n",
            "    0   0   0   0   0   0   0   0   0   0]\n",
            " [  0   0   0   0   0   0   0   0   0   0   0   0   0   0   0   0   0   0\n",
            "    0   0   0   0   0   0   0   0   0   0]\n",
            " [  0   0   0   0   0   0   0   0   0   0   0   0   0   0   0   0   0   0\n",
            "    0   0   0   0   0   0   0   0   0   0]\n",
            " [  0   0   0   0   0   0   0   0   0   0   0   0   0   0   0   0   0   0\n",
            "    0   0   0   0   0   0   0   0   0   0]\n",
            " [  0   0   0   0   0   0   0   0   0   0   0   0   0  41  88 234 255 254\n",
            "  156   0   0   0   0   0   0   0   0   0]\n",
            " [  0   0   0   0   0   0   0   0   0   0   0   0   0 219 254 254 254 254\n",
            "  250 106   0   0   0   0   0   0   0   0]\n",
            " [  0   0   0   0   0   0   0   0   0   0   0   0 181 250 254 254 254 254\n",
            "  254 111   0   0   0   0   0   0   0   0]\n",
            " [  0   0   0   0   0   0   0   0   0   0   0   0 237 247 102  40 162 254\n",
            "  254 111   0   0   0   0   0   0   0   0]\n",
            " [  0   0   0   0   0   0   0   0   0   0   0  40 244 177   0   2 189 254\n",
            "  254 111   0   0   0   0   0   0   0   0]\n",
            " [  0   0   0   0   0   0   0   0   0   0   0 161 254 242  40 121 254 254\n",
            "  254 142   0   0   0   0   0   0   0   0]\n",
            " [  0   0   0   0   0   0   0   0   0   0   0 131 254 254 254 254 254 254\n",
            "  254 111   0   0   0   0   0   0   0   0]\n",
            " [  0   0   0   0   0   0   0   0   0   0   0  27 243 254 254 254 254 254\n",
            "  254 111   0   0   0   0   0   0   0   0]\n",
            " [  0   0   0   0   0   0   0   0   0   0   0   0 120 195 236 100 229 254\n",
            "  215  15   0   0   0   0   0   0   0   0]\n",
            " [  0   0   0   0   0   0   0   0   0   0   0   0   0   0  22 143 254 254\n",
            "   93   0   0   0   0   0   0   0   0   0]\n",
            " [  0   0   0   0   0   0   0   0   0   0   0   0   0   0  80 244 254 176\n",
            "    2   0   0   0   0   0   0   0   0   0]\n",
            " [  0   0   0   0   0   0   0   0   0   0   0   0   0  16 213 254 245  49\n",
            "    0   0   0   0   0   0   0   0   0   0]\n",
            " [  0   0   0   0   0   0   0   0   0   0   0   0  22 234 254 252  95   0\n",
            "    0   0   0   0   0   0   0   0   0   0]\n",
            " [  0   0   0   0   0   0   0   0   0   0   0   0 177 254 254  87   0   0\n",
            "    0   0   0   0   0   0   0   0   0   0]\n",
            " [  0   0   0   0   0   0   0   0   0   0   0 148 253 218  39   2   0   0\n",
            "    0   0   0   0   0   0   0   0   0   0]\n",
            " [  0   0   0   0   0   0   0   0   0   2 114 253 241  64   0   0   0   0\n",
            "    0   0   0   0   0   0   0   0   0   0]\n",
            " [  0   0   0   0   0   0   0   0   0  69 254 254  74   0   0   0   0   0\n",
            "    0   0   0   0   0   0   0   0   0   0]\n",
            " [  0   0   0   0   0   0   0   0  19 241 254 145   4   0   0   0   0   0\n",
            "    0   0   0   0   0   0   0   0   0   0]\n",
            " [  0   0   0   0   0   0   0   0  95 254 153   1   0   0   0   0   0   0\n",
            "    0   0   0   0   0   0   0   0   0   0]\n",
            " [  0   0   0   0   0   0   0   0 169 216  24   0   0   0   0   0   0   0\n",
            "    0   0   0   0   0   0   0   0   0   0]\n",
            " [  0   0   0   0   0   0   0   0   0   0   0   0   0   0   0   0   0   0\n",
            "    0   0   0   0   0   0   0   0   0   0]]\n"
          ]
        },
        {
          "output_type": "display_data",
          "data": {
            "text/plain": [
              "<Figure size 640x480 with 1 Axes>"
            ],
            "image/png": "[encoded data removed]"
          },
          "metadata": {}
        }
      ]
    },
    {
      "cell_type": "code",
      "source": [
        "from keras.datasets import fashion_mnist\n",
        "y_pred=model.predict(test_images)\n",
        "for i in range(9):\n",
        "  plt.subplot(330+i+1)\n",
        "  plt.imshow(X[i])\n",
        "  print(y_pred[i])\n",
        "  plt.show()"
      ],
      "metadata": {
        "id": "MxkOByf7j9sq",
        "colab": {
          "base_uri": "https://localhost:8080/",
          "height": 1000
        },
        "outputId": "d46d46f9-357f-4550-92a7-1f949eb1ce9e"
      },
      "execution_count": 61,
      "outputs": [
        {
          "output_type": "stream",
          "name": "stdout",
          "text": [
            "313/313 [==============================] - 1s 4ms/step\n",
            "[2.1790065e-12 2.6975625e-13 1.9686307e-10 4.5925905e-08 3.2101563e-17\n",
            " 3.3481783e-14 4.7687785e-18 9.9999994e-01 1.4214865e-12 2.2939105e-10]\n"
          ]
        },
        {
          "output_type": "display_data",
          "data": {
            "text/plain": [
              "<Figure size 640x480 with 1 Axes>"
            ],
            "image/png": "[encoded data removed]"
          },
          "metadata": {}
        },
        {
          "output_type": "stream",
          "name": "stdout",
          "text": [
            "[1.8927349e-12 4.7655999e-09 9.9999994e-01 1.4484217e-10 4.7406577e-21\n",
            " 4.0264621e-13 5.8597522e-13 3.9812803e-22 3.1562605e-10 1.4236921e-20]\n"
          ]
        },
        {
          "output_type": "display_data",
          "data": {
            "text/plain": [
              "<Figure size 640x480 with 1 Axes>"
            ],
            "image/png": "[encoded data removed]"
          },
          "metadata": {}
        },
        {
          "output_type": "stream",
          "name": "stdout",
          "text": [
            "[4.2914064e-10 9.9999267e-01 4.7756475e-07 9.8277375e-10 1.1338242e-06\n",
            " 2.7153786e-09 1.1901871e-08 3.1991706e-06 2.3435337e-06 1.4006434e-11]\n"
          ]
        },
        {
          "output_type": "display_data",
          "data": {
            "text/plain": [
              "<Figure size 640x480 with 1 Axes>"
            ],
            "image/png": "[encoded data removed]"
          },
          "metadata": {}
        },
        {
          "output_type": "stream",
          "name": "stdout",
          "text": [
            "[9.9999994e-01 9.1432455e-17 5.8342120e-10 5.9186197e-14 1.6952860e-14\n",
            " 3.3012292e-13 7.4256423e-09 6.0364491e-10 1.8684433e-17 8.6727743e-11]\n"
          ]
        },
        {
          "output_type": "display_data",
          "data": {
            "text/plain": [
              "<Figure size 640x480 with 1 Axes>"
            ],
            "image/png": "[encoded data removed]"
          },
          "metadata": {}
        },
        {
          "output_type": "stream",
          "name": "stdout",
          "text": [
            "[6.3594339e-09 2.0854243e-12 4.7861954e-11 8.6374525e-15 9.9996454e-01\n",
            " 6.2563954e-14 1.7150006e-09 1.1401408e-08 2.3761459e-10 3.5446490e-05]\n"
          ]
        },
        {
          "output_type": "display_data",
          "data": {
            "text/plain": [
              "<Figure size 640x480 with 1 Axes>"
            ],
            "image/png": "[encoded data removed]"
          },
          "metadata": {}
        },
        {
          "output_type": "stream",
          "name": "stdout",
          "text": [
            "[6.8225395e-13 9.9997896e-01 2.7961586e-10 3.1296243e-11 2.0887201e-07\n",
            " 4.3955714e-13 1.6409528e-12 2.0493680e-05 1.7982521e-07 3.2395828e-13]\n"
          ]
        },
        {
          "output_type": "display_data",
          "data": {
            "text/plain": [
              "<Figure size 640x480 with 1 Axes>"
            ],
            "image/png": "[encoded data removed]"
          },
          "metadata": {}
        },
        {
          "output_type": "stream",
          "name": "stdout",
          "text": [
            "[6.9153080e-17 9.1029926e-14 2.5208619e-14 5.2126085e-16 9.9999982e-01\n",
            " 5.7842784e-12 6.9069343e-14 3.8870007e-10 7.6582197e-08 3.7842716e-09]\n"
          ]
        },
        {
          "output_type": "display_data",
          "data": {
            "text/plain": [
              "<Figure size 640x480 with 1 Axes>"
            ],
            "image/png": "[encoded data removed]"
          },
          "metadata": {}
        },
        {
          "output_type": "stream",
          "name": "stdout",
          "text": [
            "[3.2220751e-13 8.6334048e-12 5.2372641e-08 1.7167016e-06 3.9772868e-07\n",
            " 3.3503628e-10 2.3742426e-16 1.0539842e-08 8.3603097e-10 9.9999779e-01]\n"
          ]
        },
        {
          "output_type": "display_data",
          "data": {
            "text/plain": [
              "<Figure size 640x480 with 1 Axes>"
            ],
            "image/png": "[encoded data removed]"
          },
          "metadata": {}
        },
        {
          "output_type": "stream",
          "name": "stdout",
          "text": [
            "[3.1422646e-11 2.5144188e-14 8.3135223e-09 6.9718062e-14 2.0564745e-08\n",
            " 9.9974287e-01 2.4985883e-04 3.7465446e-14 7.2593853e-06 5.3378141e-08]\n"
          ]
        },
        {
          "output_type": "display_data",
          "data": {
            "text/plain": [
              "<Figure size 640x480 with 1 Axes>"
            ],
            "image/png": "[encoded data removed]"
          },
          "metadata": {}
        }
      ]
    },
    {
      "cell_type": "code",
      "source": [],
      "metadata": {
        "id": "Jp4DZGhfd7nr"
      },
      "execution_count": null,
      "outputs": []
    }
  ]
}